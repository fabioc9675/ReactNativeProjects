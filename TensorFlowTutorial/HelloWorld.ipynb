{
    "cells": [
        {
            "cell_type": "markdown",
            "source": [
                "# TensorFlow tutorial\n",
                "\n",
                "video list in youtube: https://www.youtube.com/watch?v=o0Upa0yrbS0&list=PLEtcGQaT56chOBjdO10AbBwnx1Acuj3Hu\n",
                "https://www.tensorflow.org/learn\n",
                "\n",
                "## Tutorial 1"
            ],
            "metadata": {}
        },
        {
            "cell_type": "markdown",
            "source": [],
            "metadata": {}
        },
        {
            "cell_type": "code",
            "execution_count": 1,
            "source": [
                "import tensorflow as tf\n",
                "\n",
                "print('tensorflow version ', tf.__version__)\n",
                "\n",
                "x=[[3.]]\n",
                "y=[[4.]]\n",
                "\n",
                "print('result: {}'.format(tf.matmul(x,y)))\n",
                "\n",
                "hola = tf.constant(\"Hola Mundo\")\n",
                "tf.print(hola)"
            ],
            "outputs": [
                {
                    "output_type": "stream",
                    "name": "stdout",
                    "text": [
                        "tensorflow version  2.5.0\n",
                        "result: [[12.]]\n",
                        "Hola Mundo\n"
                    ]
                }
            ],
            "metadata": {}
        },
        {
            "cell_type": "markdown",
            "source": [
                "## Tipos de variables\n",
                "\n",
                "Tensores de orden 0, 1 ,2, 3"
            ],
            "metadata": {}
        },
        {
            "cell_type": "code",
            "execution_count": 5,
            "source": [
                "# Tensores Rango 0, variables\n",
                "\n",
                "mammal = tf.Variable(\"Elephant\", tf.string)\n",
                "ignition = tf.Variable(451,tf.int16)\n",
                "floating = tf.Variable(3.14159, tf.float64)\n",
                "its_complicated = tf.Variable(12.3 - 4.85j, tf.complex64)\n",
                "\n",
                "# Tensores rango 1, vectores\n",
                "myStr = tf.Variable([\"Hello\"], tf.string)\n",
                "cool_numbers = tf.Variable([3.14159, 2.71828],tf.float32)\n",
                "first_primes = tf.Variable([2, 3, 5, 7, 11], tf.int32)\n",
                "its_very_complicated = tf.Variable([12.3 - 4.85j, 7.5 - 6.23j], tf.complex64)\n",
                "\n",
                "# Tensores rango 2 o superior, Matrices, contienen almenos una fila y una columna\n",
                "myMat = tf.Variable([[7],[11]],tf.int16)\n",
                "myxor = tf.Variable([[False, True],[True, False]],tf.bool)\n",
                "linear_square = tf.Variable([[4],[9],[16],[25]],tf.int32)\n",
                "squarish_square = tf.Variable([[4, 9],[16, 25]],tf.int32)\n",
                "rank_of_squares = tf.rank(squarish_square)\n",
                "myMatC = tf.Variable([[7],[11]], tf.int32)\n",
                "\n",
                "# Tensores de rango superior\n",
                "my_image = tf.zeros([10, 299, 299, 3]) # batch x height x width x color\n",
                "r = tf.rank(my_image)\n",
                "tf.print(r)"
            ],
            "outputs": [
                {
                    "output_type": "stream",
                    "name": "stdout",
                    "text": [
                        "4\n"
                    ]
                }
            ],
            "metadata": {}
        },
        {
            "cell_type": "markdown",
            "source": [
                "## Tutorial 3"
            ],
            "metadata": {}
        },
        {
            "cell_type": "code",
            "execution_count": 20,
            "source": [
                "t1 = tf.constant([1.5, 2.5, 3.5])\n",
                "tf.print(t1)\n",
                "\n",
                "t2 = tf.constant([['c','c'], ['c','c']])\n",
                "tf.print(t2)\n",
                "\n",
                "t3 = tf.zeros([5])\n",
                "tf.print(t3)\n",
                "\n",
                "t4 = tf.ones([5,4])\n",
                "tf.print(t4)\n",
                "\n",
                "t5= tf.fill([3,4,3],2)\n",
                "tf.print(t5)\n",
                "\n",
                "t6= tf.linspace(5,9,5)\n",
                "tf.print(t6)\n",
                "\n",
                "t7 = tf.range(5,21,3)\n",
                "tf.print(t7)"
            ],
            "outputs": [
                {
                    "output_type": "stream",
                    "name": "stdout",
                    "text": [
                        "[1.5 2.5 3.5]\n",
                        "[[\"c\" \"c\"]\n",
                        " [\"c\" \"c\"]]\n",
                        "[0 0 0 0 0]\n",
                        "[[1 1 1 1]\n",
                        " [1 1 1 1]\n",
                        " [1 1 1 1]\n",
                        " [1 1 1 1]\n",
                        " [1 1 1 1]]\n",
                        "[[[2 2 2]\n",
                        "  [2 2 2]\n",
                        "  [2 2 2]\n",
                        "  [2 2 2]]\n",
                        "\n",
                        " [[2 2 2]\n",
                        "  [2 2 2]\n",
                        "  [2 2 2]\n",
                        "  [2 2 2]]\n",
                        "\n",
                        " [[2 2 2]\n",
                        "  [2 2 2]\n",
                        "  [2 2 2]\n",
                        "  [2 2 2]]]\n",
                        "[5 6 7 8 9]\n",
                        "[5 8 11 14 17 20]\n"
                    ]
                }
            ],
            "metadata": {}
        },
        {
            "cell_type": "markdown",
            "source": [
                "## Tutorial 8"
            ],
            "metadata": {}
        },
        {
            "cell_type": "code",
            "execution_count": 23,
            "source": [
                "# Valores aleatorios\n",
                "\n",
                "valores_aleatorios = tf.random.normal([10], dtype=tf.float64)\n",
                "tf.print(valores_aleatorios)\n",
                "\n",
                "# reshape\n",
                "vector = tf.constant([1.,2.,3.,4.])\n",
                "matriz = tf.reshape(vector, [2,2])\n",
                "tf.print(matriz)\n",
                "\n",
                "#aplicar un slice\n",
                "matriz = tf.constant([[1.,2.,3.], [4.,5.,6.],[7.,8.,9.]])\n",
                "sliceMatriz = tf.slice(matriz, [1,1], [2,2])\n",
                "tf.print(sliceMatriz)\n",
                "\n",
                "#operadores\n",
                "a = tf.constant([3.,3.,3.])\n",
                "b = tf.constant([2.,2.,2.])\n",
                "\n",
                "suma = tf.add(a,b)\n",
                "resta = tf.subtract(b,a)\n",
                "mult = tf.multiply(a,b)\n",
                "divi = tf.divide(b,a)\n",
                "\n",
                "tf.print(suma)\n",
                "tf.print(resta)\n",
                "tf.print(mult)\n",
                "tf.print(divi)"
            ],
            "outputs": [
                {
                    "output_type": "stream",
                    "name": "stdout",
                    "text": [
                        "[-0.67284737391311089 -0.091035772142918622 0.063116382396244439 ... -0.90025135393876132 0.51749279539321624 -0.10601461165018736]\n",
                        "[[1 2]\n",
                        " [3 4]]\n",
                        "[[5 6]\n",
                        " [8 9]]\n",
                        "[5 5 5]\n",
                        "[-1 -1 -1]\n",
                        "[6 6 6]\n",
                        "[0.666666687 0.666666687 0.666666687]\n"
                    ]
                }
            ],
            "metadata": {}
        },
        {
            "cell_type": "markdown",
            "source": [
                "## Tutorial 2"
            ],
            "metadata": {}
        },
        {
            "cell_type": "code",
            "execution_count": null,
            "source": [
                "tfs = tf.compat.v1\n",
                "tfs.disable_eager_execution()\n",
                "\n",
                "# Crear Tensor\n",
                "mensaje = tfs.string_join([\"Hola \", \"Mundo\"])\n",
                "\n",
                "# lanzar mensaje\n",
                "with tfs.Session() as sess:\n",
                "    print(sess.run(mensaje))"
            ],
            "outputs": [],
            "metadata": {}
        }
    ],
    "metadata": {
        "orig_nbformat": 4,
        "language_info": {
            "name": "python",
            "version": "3.8.5",
            "mimetype": "text/x-python",
            "codemirror_mode": {
                "name": "ipython",
                "version": 3
            },
            "pygments_lexer": "ipython3",
            "nbconvert_exporter": "python",
            "file_extension": ".py"
        },
        "kernelspec": {
            "name": "python3",
            "display_name": "Python 3.8.5 64-bit"
        },
        "interpreter": {
            "hash": "aee8b7b246df8f9039afb4144a1f6fd8d2ca17a180786b69acc140d282b71a49"
        }
    },
    "nbformat": 4,
    "nbformat_minor": 2
}