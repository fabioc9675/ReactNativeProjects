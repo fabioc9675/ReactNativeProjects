{
 "cells": [
  {
   "cell_type": "code",
   "execution_count": 1,
   "metadata": {},
   "outputs": [
    {
     "data": {
      "text/plain": [
       "'\\nEverything in TensorFlow is based on Tensor operations.\\nTensors are (kind of) like np.arrays.\\nAll tensors are immutable: you can never update the contents of a\\ntensor, only create a new one.\\n - nd-arrays (1d, 2d, or even 3d and higher)\\n - GPU support\\n - Computational graph / Track gradients / Backpropagation\\n - Immutable!\\n'"
      ]
     },
     "execution_count": 1,
     "metadata": {},
     "output_type": "execute_result"
    }
   ],
   "source": [
    "import os\n",
    "os.environ['TF_CPP_MIN_LOG_LEVEL'] = '2'\n",
    "\n",
    "import tensorflow as tf\n",
    "\n",
    "\"\"\"\n",
    "Everything in TensorFlow is based on Tensor operations.\n",
    "Tensors are (kind of) like np.arrays.\n",
    "All tensors are immutable: you can never update the contents of a\n",
    "tensor, only create a new one.\n",
    " - nd-arrays (1d, 2d, or even 3d and higher)\n",
    " - GPU support\n",
    " - Computational graph / Track gradients / Backpropagation\n",
    " - Immutable!\n",
    "\"\"\""
   ]
  },
  {
   "cell_type": "code",
   "execution_count": 4,
   "metadata": {},
   "outputs": [
    {
     "name": "stdout",
     "output_type": "stream",
     "text": [
      "tf.Tensor(4, shape=(), dtype=int32)\n",
      "tf.Tensor([[4.]], shape=(1, 1), dtype=float32)\n",
      "tf.Tensor([1 2 3], shape=(3,), dtype=int32)\n",
      "tf.Tensor(\n",
      "[[1 2 3]\n",
      " [4 5 6]], shape=(2, 3), dtype=int32)\n",
      "tf.Tensor(\n",
      "[[1. 1. 1.]\n",
      " [1. 1. 1.]\n",
      " [1. 1. 1.]], shape=(3, 3), dtype=float32)\n",
      "tf.Tensor(\n",
      "[[0. 0. 0.]\n",
      " [0. 0. 0.]\n",
      " [0. 0. 0.]], shape=(3, 3), dtype=float32)\n"
     ]
    }
   ],
   "source": [
    "# 1. create tensors\n",
    "# scalar, rank-0 tensor\n",
    "x = tf.constant(4)\n",
    "print(x)\n",
    "\n",
    "x = tf.constant(4, shape=(1,1), dtype=tf.float32)\n",
    "print(x)\n",
    "\n",
    "# vector, rank-1\n",
    "x = tf.constant([1,2,3])\n",
    "print(x)\n",
    "\n",
    "# matrix, rank-2\n",
    "x = tf.constant([[1,2,3], [4,5,6]])\n",
    "print(x)\n",
    "\n",
    "x = tf.ones((3,3))\n",
    "print(x)\n",
    "\n",
    "x = tf.zeros((3,3))\n",
    "print(x)"
   ]
  },
  {
   "cell_type": "code",
   "execution_count": 5,
   "metadata": {},
   "outputs": [
    {
     "name": "stdout",
     "output_type": "stream",
     "text": [
      "tf.Tensor(\n",
      "[[1. 0. 0.]\n",
      " [0. 1. 0.]\n",
      " [0. 0. 1.]], shape=(3, 3), dtype=float32)\n",
      "tf.Tensor(\n",
      "[[-0.24629726 -0.4945614   1.0835437 ]\n",
      " [ 0.43170157 -0.33546293 -0.4515872 ]\n",
      " [-1.1103983  -0.64850724  0.08757156]], shape=(3, 3), dtype=float32)\n",
      "tf.Tensor(\n",
      "[[0.40589035 0.18058944 0.16275525]\n",
      " [0.85937655 0.13868523 0.06075001]\n",
      " [0.7165849  0.643697   0.6493621 ]], shape=(3, 3), dtype=float32)\n",
      "tf.Tensor([0 1 2 3 4 5 6 7 8 9], shape=(10,), dtype=int32)\n"
     ]
    }
   ],
   "source": [
    "x = tf.eye(3)\n",
    "print(x)\n",
    "\n",
    "x = tf.random.normal((3,3), mean=0, stddev=1)\n",
    "print(x)\n",
    "\n",
    "x = tf.random.uniform((3,3), minval=0, maxval=1)\n",
    "print(x)\n",
    "\n",
    "x = tf.range(10)\n",
    "print(x)"
   ]
  },
  {
   "cell_type": "code",
   "execution_count": 6,
   "metadata": {},
   "outputs": [
    {
     "name": "stdout",
     "output_type": "stream",
     "text": [
      "tf.Tensor([0. 1. 2. 3. 4. 5. 6. 7. 8. 9.], shape=(10,), dtype=float32)\n"
     ]
    }
   ],
   "source": [
    "# 2. cast:\n",
    "x = tf.cast(x, dtype=tf.float32)\n",
    "print(x)"
   ]
  },
  {
   "cell_type": "code",
   "execution_count": 9,
   "metadata": {},
   "outputs": [
    {
     "name": "stdout",
     "output_type": "stream",
     "text": [
      "tf.Tensor([5 7 9], shape=(3,), dtype=int32)\n",
      "tf.Tensor([5 7 9], shape=(3,), dtype=int32)\n",
      "tf.Tensor([-3 -3 -3], shape=(3,), dtype=int32)\n",
      "tf.Tensor([-3 -3 -3], shape=(3,), dtype=int32)\n",
      "tf.Tensor([0.25 0.4  0.5 ], shape=(3,), dtype=float64)\n",
      "tf.Tensor([0.25 0.4  0.5 ], shape=(3,), dtype=float64)\n",
      "tf.Tensor([ 4 10 18], shape=(3,), dtype=int32)\n",
      "tf.Tensor([ 4 10 18], shape=(3,), dtype=int32)\n"
     ]
    }
   ],
   "source": [
    "# 3. operations, elementwise\n",
    "x = tf.constant([1,2,3])\n",
    "y = tf.constant([4,5,6])\n",
    "\n",
    "z = tf.add(x, y)\n",
    "print(z)\n",
    "z = x + y\n",
    "print(z)\n",
    "\n",
    "z = tf.subtract(x,y)\n",
    "print(z)\n",
    "z = x - y\n",
    "print(z)\n",
    "\n",
    "z = tf.divide(x,y)\n",
    "print(z)\n",
    "z = x / y\n",
    "print(z)\n",
    "\n",
    "z = tf.multiply(x,y)\n",
    "print(z)\n",
    "z = x * y\n",
    "print(z)"
   ]
  },
  {
   "cell_type": "code",
   "execution_count": 15,
   "metadata": {},
   "outputs": [
    {
     "name": "stdout",
     "output_type": "stream",
     "text": [
      "tf.Tensor(32, shape=(), dtype=int32)\n",
      "tf.Tensor([ 1  8 27], shape=(3,), dtype=int32)\n",
      "tf.Tensor(\n",
      "[[ 0.4614767   0.55926204 -0.78394705  0.26001382]\n",
      " [-0.35201377  1.3811787  -1.9914672   4.062103  ]], shape=(2, 4), dtype=float32)\n",
      "tf.Tensor(\n",
      "[[ 0.4614767   0.55926204 -0.78394705  0.26001382]\n",
      " [-0.35201377  1.3811787  -1.9914672   4.062103  ]], shape=(2, 4), dtype=float32)\n"
     ]
    }
   ],
   "source": [
    "# dot product\n",
    "x = tf.constant([1,2,3])\n",
    "y = tf.constant([4,5,6])\n",
    "\n",
    "z = tf.tensordot(x,y, axes=1)\n",
    "print(z)\n",
    "\n",
    "# elementwise exponentiate\n",
    "z = x ** 3\n",
    "print(z)\n",
    "\n",
    "# matrix multiplication (shapes must match: number of columns A = number of rows B)\n",
    "x = tf.random.normal((2,3)) # 2,3\n",
    "y = tf.random.normal((3,4)) # 3,4\n",
    "\n",
    "z = tf.matmul(x,y)\n",
    "print(z)\n",
    "z = x @ y\n",
    "print(z)"
   ]
  },
  {
   "cell_type": "code",
   "execution_count": 16,
   "metadata": {},
   "outputs": [
    {
     "name": "stdout",
     "output_type": "stream",
     "text": [
      "tf.Tensor([1 2 3 4], shape=(4,), dtype=int32)\n",
      "tf.Tensor([1 5], shape=(2,), dtype=int32)\n",
      "tf.Tensor([5 6 7 8], shape=(4,), dtype=int32)\n",
      "tf.Tensor(6, shape=(), dtype=int32)\n"
     ]
    }
   ],
   "source": [
    "# 4. indexing, slicing\n",
    "x = tf.constant([[1,2,3,4],[5,6,7,8]])\n",
    "print(x[0])\n",
    "print(x[:, 0]) # all rows, column 0\n",
    "print(x[1, :]) # row 1, all columns\n",
    "print(x[1,1]) # element at 1, 1"
   ]
  },
  {
   "cell_type": "code",
   "execution_count": 22,
   "metadata": {},
   "outputs": [
    {
     "name": "stdout",
     "output_type": "stream",
     "text": [
      "tf.Tensor(\n",
      "[[-1.9579849  -0.4596213   0.02820609]\n",
      " [-0.9118685   0.34856138  1.8066748 ]], shape=(2, 3), dtype=float32)\n",
      "tf.Tensor(\n",
      "[[-1.9579849  -0.4596213 ]\n",
      " [ 0.02820609 -0.9118685 ]\n",
      " [ 0.34856138  1.8066748 ]], shape=(3, 2), dtype=float32)\n",
      "tf.Tensor(\n",
      "[[-1.9579849  -0.4596213 ]\n",
      " [ 0.02820609 -0.9118685 ]\n",
      " [ 0.34856138  1.8066748 ]], shape=(3, 2), dtype=float32)\n",
      "tf.Tensor([-1.9579849  -0.4596213   0.02820609 -0.9118685   0.34856138  1.8066748 ], shape=(6,), dtype=float32)\n"
     ]
    }
   ],
   "source": [
    "# 5. reshape\n",
    "x = tf.random.normal((2,3))\n",
    "print(x)\n",
    "x = tf.reshape(x, (3,2))\n",
    "print(x)\n",
    "\n",
    "x = tf.reshape(x, (-1,2))\n",
    "print(x)\n",
    "\n",
    "x = tf.reshape(x, (6))\n",
    "print(x)"
   ]
  },
  {
   "cell_type": "code",
   "execution_count": 23,
   "metadata": {},
   "outputs": [
    {
     "name": "stdout",
     "output_type": "stream",
     "text": [
      "<class 'numpy.ndarray'>\n",
      "<class 'tensorflow.python.framework.ops.EagerTensor'>\n",
      "tf.Tensor(b'Patrick', shape=(), dtype=string)\n",
      "tf.Tensor([b'Patrick' b'Max' b'Mary'], shape=(3,), dtype=string)\n",
      "<tf.Variable 'Variable:0' shape=(1, 3) dtype=float32, numpy=array([[1., 2., 3.]], dtype=float32)>\n",
      "<class 'tensorflow.python.ops.resource_variable_ops.ResourceVariable'>\n"
     ]
    }
   ],
   "source": [
    "# 6. numpy\n",
    "x = x.numpy()\n",
    "print(type(x))\n",
    "\n",
    "x = tf.convert_to_tensor(x)\n",
    "print(type(x))\n",
    "# -> eager tensor = evaluates operations immediately\n",
    "# without building graphs\n",
    "\n",
    "# string tensor\n",
    "x = tf.constant(\"Patrick\")\n",
    "print(x)\n",
    "\n",
    "x = tf.constant([\"Patrick\", \"Max\", \"Mary\"])\n",
    "print(x)\n",
    "\n",
    "# Variable\n",
    "# A tf.Variable represents a tensor whose value can be\n",
    "# changed by running ops on it\n",
    "# Used to represent shared, persistent state your program manipulates\n",
    "# Higher level libraries like tf.keras use tf.Variable to store model parameters.\n",
    "b = tf.Variable([[1.0, 2.0, 3.0]])\n",
    "print(b)\n",
    "print(type(b))"
   ]
  }
 ],
 "metadata": {
  "kernelspec": {
   "display_name": "Python 3.10.0 64-bit",
   "language": "python",
   "name": "python3"
  },
  "language_info": {
   "codemirror_mode": {
    "name": "ipython",
    "version": 3
   },
   "file_extension": ".py",
   "mimetype": "text/x-python",
   "name": "python",
   "nbconvert_exporter": "python",
   "pygments_lexer": "ipython3",
   "version": "3.10.0"
  },
  "orig_nbformat": 4,
  "vscode": {
   "interpreter": {
    "hash": "369f2c481f4da34e4445cda3fffd2e751bd1c4d706f27375911949ba6bb62e1c"
   }
  }
 },
 "nbformat": 4,
 "nbformat_minor": 2
}
