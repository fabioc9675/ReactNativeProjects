{
 "cells": [
  {
   "cell_type": "code",
   "execution_count": 1,
   "metadata": {},
   "outputs": [],
   "source": [
    "import os\n",
    "os.environ[\"TF_CPP_MIN_LOG_LEVEL\"] = \"2\"\n",
    "\n",
    "import tensorflow as tf\n",
    "from tensorflow import keras\n",
    "from tensorflow.keras import layers"
   ]
  },
  {
   "cell_type": "code",
   "execution_count": 2,
   "metadata": {},
   "outputs": [],
   "source": [
    "mnist = keras.datasets.mnist\n",
    "\n",
    "(x_train, y_train), (x_test, y_test) = mnist.load_data()\n",
    "x_train, x_test = x_train / 255.0, x_test / 255.0\n",
    "# 28, 28 -> treat image as sequence\n",
    "# input_size=28\n",
    "# seq_length=28"
   ]
  },
  {
   "cell_type": "code",
   "execution_count": 3,
   "metadata": {},
   "outputs": [],
   "source": [
    "# RNN Outputs and states\n",
    "# ----------------------\n",
    "# By default, the output of a RNN layer contains a single vector per sample.\n",
    "# This vector is the RNN cell output corresponding to the last timestep, \n",
    "# containing information about the entire input sequence. \n",
    "# The shape of this output is (N, units)\n",
    "# \n",
    "# A RNN layer can also return the entire sequence of outputs \n",
    "# for each sample (one vector per timestep per sample), \n",
    "# if you set return_sequences=True. The shape of this output \n",
    "# is (N, timesteps, units)."
   ]
  },
  {
   "cell_type": "code",
   "execution_count": 4,
   "metadata": {},
   "outputs": [
    {
     "name": "stdout",
     "output_type": "stream",
     "text": [
      "Model: \"sequential\"\n",
      "_________________________________________________________________\n",
      " Layer (type)                Output Shape              Param #   \n",
      "=================================================================\n",
      " lstm (LSTM)                 (None, 128)               80384     \n",
      "                                                                 \n",
      " dense (Dense)               (None, 10)                1290      \n",
      "                                                                 \n",
      "=================================================================\n",
      "Total params: 81,674\n",
      "Trainable params: 81,674\n",
      "Non-trainable params: 0\n",
      "_________________________________________________________________\n",
      "None\n"
     ]
    }
   ],
   "source": [
    "# model\n",
    "model = keras.models.Sequential()\n",
    "model.add(keras.Input(shape=(28,28))) # seq_length, input_size\n",
    "#model.add(layers.SimpleRNN(128, return_sequences=True, activation='relu')) # N, 28, 128\n",
    "model.add(layers.LSTM(128, return_sequences=False, activation='relu')) # N, 128\n",
    "model.add(layers.Dense(10))\n",
    "print(model.summary())"
   ]
  },
  {
   "cell_type": "code",
   "execution_count": 5,
   "metadata": {},
   "outputs": [
    {
     "name": "stderr",
     "output_type": "stream",
     "text": [
      "C:\\Users\\fabian\\AppData\\Roaming\\Python\\Python310\\site-packages\\keras\\optimizer_v2\\adam.py:105: UserWarning: The `lr` argument is deprecated, use `learning_rate` instead.\n",
      "  super(Adam, self).__init__(name, **kwargs)\n"
     ]
    }
   ],
   "source": [
    "# loss and optimizer\n",
    "loss = keras.losses.SparseCategoricalCrossentropy(from_logits=True)\n",
    "optim = keras.optimizers.Adam(lr=0.001)\n",
    "metrics = [\"accuracy\"]"
   ]
  },
  {
   "cell_type": "code",
   "execution_count": 6,
   "metadata": {},
   "outputs": [],
   "source": [
    "model.compile(loss=loss, optimizer=optim, metrics=metrics)"
   ]
  },
  {
   "cell_type": "code",
   "execution_count": 7,
   "metadata": {},
   "outputs": [
    {
     "name": "stdout",
     "output_type": "stream",
     "text": [
      "Epoch 1/5\n",
      "938/938 - 22s - loss: 0.5910 - accuracy: 0.8116 - 22s/epoch - 24ms/step\n",
      "Epoch 2/5\n",
      "938/938 - 21s - loss: 0.1340 - accuracy: 0.9590 - 21s/epoch - 22ms/step\n",
      "Epoch 3/5\n",
      "938/938 - 21s - loss: 0.0911 - accuracy: 0.9724 - 21s/epoch - 22ms/step\n",
      "Epoch 4/5\n",
      "938/938 - 21s - loss: 0.0738 - accuracy: 0.9775 - 21s/epoch - 22ms/step\n",
      "Epoch 5/5\n",
      "938/938 - 21s - loss: 0.0593 - accuracy: 0.9820 - 21s/epoch - 22ms/step\n"
     ]
    },
    {
     "data": {
      "text/plain": [
       "<keras.callbacks.History at 0x2276a248e20>"
      ]
     },
     "execution_count": 7,
     "metadata": {},
     "output_type": "execute_result"
    }
   ],
   "source": [
    "# training\n",
    "batch_size = 64\n",
    "epochs = 5\n",
    "\n",
    "model.fit(x_train, y_train, batch_size=batch_size, epochs=epochs, verbose=2)"
   ]
  },
  {
   "cell_type": "code",
   "execution_count": 8,
   "metadata": {},
   "outputs": [
    {
     "name": "stdout",
     "output_type": "stream",
     "text": [
      "157/157 - 2s - loss: 0.0557 - accuracy: 0.9838 - 2s/epoch - 10ms/step\n"
     ]
    },
    {
     "data": {
      "text/plain": [
       "[0.055707335472106934, 0.9837999939918518]"
      ]
     },
     "execution_count": 8,
     "metadata": {},
     "output_type": "execute_result"
    }
   ],
   "source": [
    "# evaulate\n",
    "model.evaluate(x_test, y_test, batch_size=batch_size, verbose=2)"
   ]
  }
 ],
 "metadata": {
  "kernelspec": {
   "display_name": "Python 3.10.0 64-bit",
   "language": "python",
   "name": "python3"
  },
  "language_info": {
   "codemirror_mode": {
    "name": "ipython",
    "version": 3
   },
   "file_extension": ".py",
   "mimetype": "text/x-python",
   "name": "python",
   "nbconvert_exporter": "python",
   "pygments_lexer": "ipython3",
   "version": "3.10.0"
  },
  "orig_nbformat": 4,
  "vscode": {
   "interpreter": {
    "hash": "369f2c481f4da34e4445cda3fffd2e751bd1c4d706f27375911949ba6bb62e1c"
   }
  }
 },
 "nbformat": 4,
 "nbformat_minor": 2
}
