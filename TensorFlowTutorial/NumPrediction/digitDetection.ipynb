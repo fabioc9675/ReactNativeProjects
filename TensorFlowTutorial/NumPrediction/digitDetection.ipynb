{
    "cells": [
        {
            "cell_type": "code",
            "execution_count": 1,
            "source": [
                "import tensorflow as tf\n",
                "\n",
                "# bash /Applications/Python*/Install\\ Certificates.command\n",
                "\n",
                "mnist = tf.keras.datasets.mnist # 28x28 images of hand-written digits 0-9\n",
                "(x_train, y_train), (x_test, y_test) = mnist.load_data()\n",
                "\n",
                "# escalar los datos entre 0 y 1\n",
                "x_train = tf.keras.utils.normalize(x_train, axis=1)\n",
                "x_test = tf.keras.utils.normalize(x_test, axis=1)\n",
                "\n",
                "model = tf.keras.models.Sequential()\n",
                "model.add(tf.keras.layers.Flatten())\n",
                "model.add(tf.keras.layers.Dense(128, activation=tf.nn.relu))\n",
                "model.add(tf.keras.layers.Dense(128, activation=tf.nn.relu))\n",
                "model.add(tf.keras.layers.Dense(10, activation=tf.nn.softmax))\n",
                "\n",
                "model.compile(optimizer='adam',loss='sparse_categorical_crossentropy',metrics=['accuracy'] )\n",
                "model.fit(x_train,y_train, epochs=3)"
            ],
            "outputs": [
                {
                    "output_type": "stream",
                    "name": "stdout",
                    "text": [
                        "Epoch 1/3\n",
                        "1875/1875 [==============================] - 7s 3ms/step - loss: 0.2704 - accuracy: 0.9207\n",
                        "Epoch 2/3\n",
                        "1875/1875 [==============================] - 7s 4ms/step - loss: 0.1093 - accuracy: 0.9665\n",
                        "Epoch 3/3\n",
                        "1875/1875 [==============================] - 7s 4ms/step - loss: 0.0752 - accuracy: 0.9763\n"
                    ]
                },
                {
                    "output_type": "execute_result",
                    "data": {
                        "text/plain": [
                            "<tensorflow.python.keras.callbacks.History at 0x7ffc39967790>"
                        ]
                    },
                    "metadata": {},
                    "execution_count": 1
                }
            ],
            "metadata": {}
        },
        {
            "cell_type": "code",
            "execution_count": 2,
            "source": [
                "val_loss, val_acc = model.evaluate(x_test, y_test)\n",
                "print(val_loss, val_acc)"
            ],
            "outputs": [
                {
                    "output_type": "stream",
                    "name": "stdout",
                    "text": [
                        "313/313 [==============================] - 1s 2ms/step - loss: 0.0908 - accuracy: 0.9715\n",
                        "0.09077818691730499 0.9714999794960022\n"
                    ]
                }
            ],
            "metadata": {}
        },
        {
            "cell_type": "code",
            "execution_count": 3,
            "source": [
                "import matplotlib.pyplot as plt\n",
                "\n",
                "plt.imshow(x_train[0], cmap= plt.cm.binary)\n",
                "plt.show()\n",
                "#print(x_train[0])\n",
                "\n",
                "\n"
            ],
            "outputs": [
                {
                    "output_type": "display_data",
                    "data": {
                        "text/plain": [
                            "<Figure size 432x288 with 1 Axes>"
                        ],
                        "image/png": "[encoded data removed]"
                    },
                    "metadata": {
                        "needs_background": "light"
                    }
                }
            ],
            "metadata": {}
        },
        {
            "cell_type": "code",
            "execution_count": 4,
            "source": [
                "model.save('epic_num_reader.model')"
            ],
            "outputs": [
                {
                    "output_type": "stream",
                    "name": "stdout",
                    "text": [
                        "INFO:tensorflow:Assets written to: epic_num_reader.model/assets\n"
                    ]
                }
            ],
            "metadata": {}
        },
        {
            "cell_type": "code",
            "execution_count": 5,
            "source": [
                "new_model = tf.keras.models.load_model('epic_num_reader.model')"
            ],
            "outputs": [],
            "metadata": {}
        },
        {
            "cell_type": "code",
            "execution_count": 6,
            "source": [
                "prediction = new_model.predict([x_test])"
            ],
            "outputs": [],
            "metadata": {}
        },
        {
            "cell_type": "code",
            "execution_count": 7,
            "source": [
                "print(prediction)"
            ],
            "outputs": [
                {
                    "output_type": "stream",
                    "name": "stdout",
                    "text": [
                        "[[3.9387967e-08 1.2250415e-07 7.2608377e-06 ... 9.9998009e-01\n",
                        "  1.3843530e-07 1.3278982e-07]\n",
                        " [5.0489251e-07 2.0641917e-03 9.9776912e-01 ... 6.1909326e-08\n",
                        "  1.7201202e-05 3.3506198e-10]\n",
                        " [4.7579638e-07 9.9982965e-01 8.0712816e-06 ... 3.5765905e-05\n",
                        "  5.8127091e-05 3.4769664e-07]\n",
                        " ...\n",
                        " [5.4172494e-10 5.8409847e-07 7.0197075e-08 ... 7.6595388e-05\n",
                        "  6.5782780e-07 7.7172655e-05]\n",
                        " [3.7902199e-05 1.7885171e-06 1.6731521e-07 ... 6.6858238e-06\n",
                        "  5.1795053e-03 3.4704922e-08]\n",
                        " [3.2832788e-06 3.8982087e-08 7.6720397e-07 ... 2.9909333e-10\n",
                        "  1.0511316e-08 5.7162657e-09]]\n"
                    ]
                }
            ],
            "metadata": {}
        },
        {
            "cell_type": "code",
            "execution_count": 8,
            "source": [
                "import numpy as np\n",
                "\n",
                "d = 30\n",
                "print(np.argmax(prediction[d]))"
            ],
            "outputs": [
                {
                    "output_type": "stream",
                    "name": "stdout",
                    "text": [
                        "3\n"
                    ]
                }
            ],
            "metadata": {}
        },
        {
            "cell_type": "code",
            "execution_count": 9,
            "source": [
                "plt.imshow(x_test[d])\n",
                "plt.show()"
            ],
            "outputs": [
                {
                    "output_type": "display_data",
                    "data": {
                        "text/plain": [
                            "<Figure size 432x288 with 1 Axes>"
                        ],
                        "image/png": "[encoded data removed]"
                    },
                    "metadata": {
                        "needs_background": "light"
                    }
                }
            ],
            "metadata": {}
        }
    ],
    "metadata": {
        "orig_nbformat": 4,
        "language_info": {
            "name": "python",
            "version": "3.8.5",
            "mimetype": "text/x-python",
            "codemirror_mode": {
                "name": "ipython",
                "version": 3
            },
            "pygments_lexer": "ipython3",
            "nbconvert_exporter": "python",
            "file_extension": ".py"
        },
        "kernelspec": {
            "name": "python3",
            "display_name": "Python 3.8.5 64-bit"
        },
        "interpreter": {
            "hash": "aee8b7b246df8f9039afb4144a1f6fd8d2ca17a180786b69acc140d282b71a49"
        }
    },
    "nbformat": 4,
    "nbformat_minor": 2
}