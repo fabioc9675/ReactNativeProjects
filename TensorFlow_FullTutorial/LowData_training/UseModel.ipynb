{
 "cells": [
  {
   "cell_type": "code",
   "execution_count": 1,
   "metadata": {},
   "outputs": [
    {
     "name": "stdout",
     "output_type": "stream",
     "text": [
      "Model: \"sequential\"\n",
      "_________________________________________________________________\n",
      " Layer (type)                Output Shape              Param #   \n",
      "=================================================================\n",
      " keras_layer (KerasLayer)    (None, 1280)              2257984   \n",
      "                                                                 \n",
      " dense (Dense)               (None, 3)                 3843      \n",
      "                                                                 \n",
      "=================================================================\n",
      "Total params: 2,261,827\n",
      "Trainable params: 3,843\n",
      "Non-trainable params: 2,257,984\n",
      "_________________________________________________________________\n"
     ]
    }
   ],
   "source": [
    "import tensorflow as tf\n",
    "import numpy as np\n",
    "from tensorflow.keras.models import load_model\n",
    "\n",
    "# load model\n",
    "savedModel=load_model('carpeta_salida/modelo_cocina/1')\n",
    "savedModel.summary()\n"
   ]
  },
  {
   "cell_type": "code",
   "execution_count": 2,
   "metadata": {},
   "outputs": [],
   "source": [
    "# Categorizar una imagen de internet\n",
    "from PIL import Image\n",
    "import requests\n",
    "from io import BytesIO\n",
    "import cv2\n",
    "\n",
    "def categorizar(url):\n",
    "    respuesta = requests.get(url)\n",
    "    img = Image.open(BytesIO(respuesta.content))\n",
    "    img = np.array(img).astype(float)/255\n",
    "\n",
    "    img = cv2.resize(img,(224,224))\n",
    "\n",
    "    print (\"begin prediction\")\n",
    "\n",
    "    prediccion = savedModel.predict(img.reshape(-1, 224, 224, 3))\n",
    "    return np.argmax(prediccion[0], axis=-1)"
   ]
  },
  {
   "cell_type": "code",
   "execution_count": 5,
   "metadata": {},
   "outputs": [
    {
     "name": "stdout",
     "output_type": "stream",
     "text": [
      "begin prediction\n",
      "0\n"
     ]
    }
   ],
   "source": [
    "#0 = cuchara, 1 = cuchillo, 2 = tenedor\n",
    "# url = 'https://th.bing.com/th/id/R.e44940120b7b67680af246c3b3e936f2?rik=XZPLfxf4nHlzyw&pid=ImgRaw&r=0' #debe ser 2\n",
    "# url = 'https://http2.mlstatic.com/D_NQ_NP_849130-MCO45458863289_042021-O.webp' #debe ser 2\n",
    "# url = 'https://i.pinimg.com/564x/a5/da/bc/a5dabc952c44f4f5ebd61f2207b40e66.jpg' #debe ser 0\n",
    "# url = 'https://i.pinimg.com/564x/1a/3c/e6/1a3ce6f96eb181bc776e6f3dbd3de65f.jpg' #debe ser 0\n",
    "# url = 'https://i.pinimg.com/564x/99/1b/4a/991b4a2db20335d592451e3616ef2bf9.jpg' #debe ser 1\n",
    "# url = 'https://i.pinimg.com/564x/32/6b/8f/326b8fa4a359c07c3f3cc249a4c73ad2.jpg' #debe ser 1\n",
    "\n",
    "url = 'https://tse3.mm.bing.net/th?id=OIP.ZCz_SCM5cbUgWHjR5UHBUwHaDM&pid=Api&P=0&w=396&h=171' #debe ser 0\n",
    "# url = 'https://tse2.mm.bing.net/th?id=OIP.8nVFxf9j99dKJoAB5oMZsgHaHa&pid=Api&P=0&w=175&h=175' #debe ser 1\n",
    "# url = 'https://tse3.mm.bing.net/th?id=OIP.NRCDGEHDW-CZejKKhLSigAHaFh&pid=Api&P=0&w=222&h=165' #debe ser 2\n",
    "\n",
    "prediccion = categorizar (url)\n",
    "print(prediccion)"
   ]
  }
 ],
 "metadata": {
  "interpreter": {
   "hash": "2be5faf79681da6f2a61fdfdd5405d65d042280f7fba6178067603e3a2925119"
  },
  "kernelspec": {
   "display_name": "Python 3.10.0 64-bit",
   "language": "python",
   "name": "python3"
  },
  "language_info": {
   "codemirror_mode": {
    "name": "ipython",
    "version": 3
   },
   "file_extension": ".py",
   "mimetype": "text/x-python",
   "name": "python",
   "nbconvert_exporter": "python",
   "pygments_lexer": "ipython3",
   "version": "3.10.0"
  },
  "orig_nbformat": 4
 },
 "nbformat": 4,
 "nbformat_minor": 2
}
