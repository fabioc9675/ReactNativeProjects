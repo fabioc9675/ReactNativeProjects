{
 "cells": [
  {
   "cell_type": "code",
   "execution_count": 1,
   "metadata": {},
   "outputs": [
    {
     "name": "stdout",
     "output_type": "stream",
     "text": [
      "Comenzando entrenamiento...\n",
      "Modelo entrenado!\n"
     ]
    }
   ],
   "source": [
    "#Codigo general\n",
    "#Si quieres ver como lo programamos, revisa el video donde lo explico\n",
    "#todo desde cero: https://youtu.be/iX_on3VxZzk\n",
    "\n",
    "import tensorflow as tf\n",
    "import numpy as np\n",
    "\n",
    "celsius = np.array([-40, -10, 0, 8, 15, 22, 38], dtype=float)\n",
    "fahrenheit = np.array([-40, 14, 32, 46, 59, 72, 100], dtype=float)\n",
    "\n",
    "oculta1 = tf.keras.layers.Dense(units=3, input_shape=[1])\n",
    "oculta2 = tf.keras.layers.Dense(units=3)\n",
    "salida = tf.keras.layers.Dense(units=1)\n",
    "modelo = tf.keras.Sequential([oculta1, oculta2, salida])\n",
    "\n",
    "modelo.compile(\n",
    "    optimizer=tf.keras.optimizers.Adam(0.01),\n",
    "    loss='mean_squared_error'\n",
    ")\n",
    "\n",
    "print(\"Comenzando entrenamiento...\")\n",
    "historial = modelo.fit(celsius, fahrenheit, epochs=300, verbose=False)\n",
    "print(\"Modelo entrenado!\")"
   ]
  },
  {
   "cell_type": "code",
   "execution_count": 2,
   "metadata": {},
   "outputs": [
    {
     "name": "stdout",
     "output_type": "stream",
     "text": [
      "Prediccion: 100 grados celsius son [[211.75113]] fahrenheit!\n"
     ]
    }
   ],
   "source": [
    "resultado = modelo.predict([100.0])\n",
    "print(\"Prediccion: 100 grados celsius son \" + str(resultado) + \" fahrenheit!\")"
   ]
  },
  {
   "cell_type": "code",
   "execution_count": 3,
   "metadata": {},
   "outputs": [],
   "source": [
    "#Exportar el modelo en formato h5\n",
    "modelo.save('celsius_a_fahrenheit.h5')"
   ]
  },
  {
   "cell_type": "code",
   "execution_count": 4,
   "metadata": {},
   "outputs": [
    {
     "name": "stdout",
     "output_type": "stream",
     "text": [
      "Requirement already satisfied: tensorflowjs in c:\\users\\fabian\\appdata\\roaming\\python\\python310\\site-packages (3.15.0)\n",
      "Requirement already satisfied: tensorflow-hub<0.13,>=0.7.0 in c:\\python310\\lib\\site-packages (from tensorflowjs) (0.12.0)\n",
      "Requirement already satisfied: six<2,>=1.12.0 in c:\\python310\\lib\\site-packages (from tensorflowjs) (1.16.0)\n",
      "Requirement already satisfied: tensorflow<3,>=2.1.0 in c:\\users\\fabian\\appdata\\roaming\\python\\python310\\site-packages (from tensorflowjs) (2.8.0)\n",
      "Requirement already satisfied: tensorboard<2.9,>=2.8 in c:\\users\\fabian\\appdata\\roaming\\python\\python310\\site-packages (from tensorflow<3,>=2.1.0->tensorflowjs) (2.8.0)\n",
      "Requirement already satisfied: gast>=0.2.1 in c:\\users\\fabian\\appdata\\roaming\\python\\python310\\site-packages (from tensorflow<3,>=2.1.0->tensorflowjs) (0.5.3)\n",
      "Requirement already satisfied: flatbuffers>=1.12 in c:\\users\\fabian\\appdata\\roaming\\python\\python310\\site-packages (from tensorflow<3,>=2.1.0->tensorflowjs) (2.0)\n",
      "Requirement already satisfied: grpcio<2.0,>=1.24.3 in c:\\users\\fabian\\appdata\\roaming\\python\\python310\\site-packages (from tensorflow<3,>=2.1.0->tensorflowjs) (1.44.0)\n",
      "Requirement already satisfied: absl-py>=0.4.0 in c:\\users\\fabian\\appdata\\roaming\\python\\python310\\site-packages (from tensorflow<3,>=2.1.0->tensorflowjs) (1.0.0)\n",
      "Requirement already satisfied: numpy>=1.20 in c:\\users\\fabian\\appdata\\roaming\\python\\python310\\site-packages (from tensorflow<3,>=2.1.0->tensorflowjs) (1.22.3)\n",
      "Requirement already satisfied: wrapt>=1.11.0 in c:\\users\\fabian\\appdata\\roaming\\python\\python310\\site-packages (from tensorflow<3,>=2.1.0->tensorflowjs) (1.14.0)\n",
      "Requirement already satisfied: libclang>=9.0.1 in c:\\users\\fabian\\appdata\\roaming\\python\\python310\\site-packages (from tensorflow<3,>=2.1.0->tensorflowjs) (13.0.0)\n",
      "Requirement already satisfied: google-pasta>=0.1.1 in c:\\users\\fabian\\appdata\\roaming\\python\\python310\\site-packages (from tensorflow<3,>=2.1.0->tensorflowjs) (0.2.0)\n",
      "Requirement already satisfied: tensorflow-io-gcs-filesystem>=0.23.1 in c:\\users\\fabian\\appdata\\roaming\\python\\python310\\site-packages (from tensorflow<3,>=2.1.0->tensorflowjs) (0.24.0)\n",
      "Requirement already satisfied: keras<2.9,>=2.8.0rc0 in c:\\users\\fabian\\appdata\\roaming\\python\\python310\\site-packages (from tensorflow<3,>=2.1.0->tensorflowjs) (2.8.0)\n",
      "Requirement already satisfied: termcolor>=1.1.0 in c:\\users\\fabian\\appdata\\roaming\\python\\python310\\site-packages (from tensorflow<3,>=2.1.0->tensorflowjs) (1.1.0)\n",
      "Requirement already satisfied: astunparse>=1.6.0 in c:\\users\\fabian\\appdata\\roaming\\python\\python310\\site-packages (from tensorflow<3,>=2.1.0->tensorflowjs) (1.6.3)\n",
      "Requirement already satisfied: keras-preprocessing>=1.1.1 in c:\\users\\fabian\\appdata\\roaming\\python\\python310\\site-packages (from tensorflow<3,>=2.1.0->tensorflowjs) (1.1.2)\n",
      "Requirement already satisfied: tf-estimator-nightly==2.8.0.dev2021122109 in c:\\users\\fabian\\appdata\\roaming\\python\\python310\\site-packages (from tensorflow<3,>=2.1.0->tensorflowjs) (2.8.0.dev2021122109)\n",
      "Requirement already satisfied: h5py>=2.9.0 in c:\\users\\fabian\\appdata\\roaming\\python\\python310\\site-packages (from tensorflow<3,>=2.1.0->tensorflowjs) (3.6.0)\n",
      "Requirement already satisfied: protobuf>=3.9.2 in c:\\users\\fabian\\appdata\\roaming\\python\\python310\\site-packages (from tensorflow<3,>=2.1.0->tensorflowjs) (3.20.0)\n",
      "Requirement already satisfied: typing-extensions>=3.6.6 in c:\\users\\fabian\\appdata\\roaming\\python\\python310\\site-packages (from tensorflow<3,>=2.1.0->tensorflowjs) (4.1.1)\n",
      "Requirement already satisfied: opt-einsum>=2.3.2 in c:\\users\\fabian\\appdata\\roaming\\python\\python310\\site-packages (from tensorflow<3,>=2.1.0->tensorflowjs) (3.3.0)\n",
      "Requirement already satisfied: setuptools in c:\\python310\\lib\\site-packages (from tensorflow<3,>=2.1.0->tensorflowjs) (57.4.0)\n",
      "Requirement already satisfied: wheel<1.0,>=0.23.0 in c:\\users\\fabian\\appdata\\roaming\\python\\python310\\site-packages (from astunparse>=1.6.0->tensorflow<3,>=2.1.0->tensorflowjs) (0.37.1)\n",
      "Requirement already satisfied: tensorboard-plugin-wit>=1.6.0 in c:\\users\\fabian\\appdata\\roaming\\python\\python310\\site-packages (from tensorboard<2.9,>=2.8->tensorflow<3,>=2.1.0->tensorflowjs) (1.8.1)\n",
      "Requirement already satisfied: requests<3,>=2.21.0 in c:\\users\\fabian\\appdata\\roaming\\python\\python310\\site-packages (from tensorboard<2.9,>=2.8->tensorflow<3,>=2.1.0->tensorflowjs) (2.27.1)\n",
      "Requirement already satisfied: google-auth-oauthlib<0.5,>=0.4.1 in c:\\users\\fabian\\appdata\\roaming\\python\\python310\\site-packages (from tensorboard<2.9,>=2.8->tensorflow<3,>=2.1.0->tensorflowjs) (0.4.6)\n",
      "Requirement already satisfied: tensorboard-data-server<0.7.0,>=0.6.0 in c:\\users\\fabian\\appdata\\roaming\\python\\python310\\site-packages (from tensorboard<2.9,>=2.8->tensorflow<3,>=2.1.0->tensorflowjs) (0.6.1)\n",
      "Requirement already satisfied: markdown>=2.6.8 in c:\\users\\fabian\\appdata\\roaming\\python\\python310\\site-packages (from tensorboard<2.9,>=2.8->tensorflow<3,>=2.1.0->tensorflowjs) (3.3.6)\n",
      "Requirement already satisfied: werkzeug>=0.11.15 in c:\\users\\fabian\\appdata\\roaming\\python\\python310\\site-packages (from tensorboard<2.9,>=2.8->tensorflow<3,>=2.1.0->tensorflowjs) (2.1.1)\n",
      "Requirement already satisfied: google-auth<3,>=1.6.3 in c:\\users\\fabian\\appdata\\roaming\\python\\python310\\site-packages (from tensorboard<2.9,>=2.8->tensorflow<3,>=2.1.0->tensorflowjs) (2.6.4)\n",
      "Requirement already satisfied: pyasn1-modules>=0.2.1 in c:\\users\\fabian\\appdata\\roaming\\python\\python310\\site-packages (from google-auth<3,>=1.6.3->tensorboard<2.9,>=2.8->tensorflow<3,>=2.1.0->tensorflowjs) (0.2.8)\n",
      "Requirement already satisfied: rsa<5,>=3.1.4 in c:\\users\\fabian\\appdata\\roaming\\python\\python310\\site-packages (from google-auth<3,>=1.6.3->tensorboard<2.9,>=2.8->tensorflow<3,>=2.1.0->tensorflowjs) (4.8)\n",
      "Requirement already satisfied: cachetools<6.0,>=2.0.0 in c:\\users\\fabian\\appdata\\roaming\\python\\python310\\site-packages (from google-auth<3,>=1.6.3->tensorboard<2.9,>=2.8->tensorflow<3,>=2.1.0->tensorflowjs) (5.0.0)\n",
      "Requirement already satisfied: requests-oauthlib>=0.7.0 in c:\\users\\fabian\\appdata\\roaming\\python\\python310\\site-packages (from google-auth-oauthlib<0.5,>=0.4.1->tensorboard<2.9,>=2.8->tensorflow<3,>=2.1.0->tensorflowjs) (1.3.1)\n",
      "Requirement already satisfied: pyasn1<0.5.0,>=0.4.6 in c:\\python310\\lib\\site-packages (from pyasn1-modules>=0.2.1->google-auth<3,>=1.6.3->tensorboard<2.9,>=2.8->tensorflow<3,>=2.1.0->tensorflowjs) (0.4.8)\n",
      "Requirement already satisfied: certifi>=2017.4.17 in c:\\users\\fabian\\appdata\\roaming\\python\\python310\\site-packages (from requests<3,>=2.21.0->tensorboard<2.9,>=2.8->tensorflow<3,>=2.1.0->tensorflowjs) (2021.10.8)\n",
      "Requirement already satisfied: idna<4,>=2.5 in c:\\python310\\lib\\site-packages (from requests<3,>=2.21.0->tensorboard<2.9,>=2.8->tensorflow<3,>=2.1.0->tensorflowjs) (3.3)\n",
      "Requirement already satisfied: urllib3<1.27,>=1.21.1 in c:\\python310\\lib\\site-packages (from requests<3,>=2.21.0->tensorboard<2.9,>=2.8->tensorflow<3,>=2.1.0->tensorflowjs) (1.26.9)\n",
      "Requirement already satisfied: charset-normalizer~=2.0.0 in c:\\python310\\lib\\site-packages (from requests<3,>=2.21.0->tensorboard<2.9,>=2.8->tensorflow<3,>=2.1.0->tensorflowjs) (2.0.12)\n",
      "Requirement already satisfied: oauthlib>=3.0.0 in c:\\users\\fabian\\appdata\\roaming\\python\\python310\\site-packages (from requests-oauthlib>=0.7.0->google-auth-oauthlib<0.5,>=0.4.1->tensorboard<2.9,>=2.8->tensorflow<3,>=2.1.0->tensorflowjs) (3.2.0)\n"
     ]
    },
    {
     "name": "stderr",
     "output_type": "stream",
     "text": [
      "WARNING: You are using pip version 21.2.3; however, version 22.0.4 is available.\n",
      "You should consider upgrading via the 'C:\\Python310\\python.exe -m pip install --upgrade pip' command.\n"
     ]
    }
   ],
   "source": [
    "#Para convertirlo a tensorflow.js, primero debemos instalar la libreria\n",
    "!pip install tensorflowjs"
   ]
  },
  {
   "cell_type": "code",
   "execution_count": 5,
   "metadata": {},
   "outputs": [],
   "source": [
    "#Crear carpeta donde se colocaran los archivos resultantes\n",
    "!mkdir carpeta_salida"
   ]
  },
  {
   "cell_type": "code",
   "execution_count": 6,
   "metadata": {},
   "outputs": [
    {
     "name": "stderr",
     "output_type": "stream",
     "text": [
      "2022-04-13 20:22:42.575055: W tensorflow/stream_executor/platform/default/dso_loader.cc:64] Could not load dynamic library 'cudart64_110.dll'; dlerror: cudart64_110.dll not found\n",
      "2022-04-13 20:22:42.575544: I tensorflow/stream_executor/cuda/cudart_stub.cc:29] Ignore above cudart dlerror if you do not have a GPU set up on your machine.\n"
     ]
    }
   ],
   "source": [
    "#Realizar la exportacion a la carpeta de salida\n",
    "!\"C:\\Users\\fabian\\AppData\\Roaming\\Python\\Python310\\Scripts\\tensorflowjs_converter\" --input_format keras celsius_a_fahrenheit.h5 carpeta_salida"
   ]
  }
 ],
 "metadata": {
  "interpreter": {
   "hash": "2be5faf79681da6f2a61fdfdd5405d65d042280f7fba6178067603e3a2925119"
  },
  "kernelspec": {
   "display_name": "Python 3.10.0 64-bit",
   "language": "python",
   "name": "python3"
  },
  "language_info": {
   "codemirror_mode": {
    "name": "ipython",
    "version": 3
   },
   "file_extension": ".py",
   "mimetype": "text/x-python",
   "name": "python",
   "nbconvert_exporter": "python",
   "pygments_lexer": "ipython3",
   "version": "3.10.0"
  },
  "orig_nbformat": 4
 },
 "nbformat": 4,
 "nbformat_minor": 2
}
