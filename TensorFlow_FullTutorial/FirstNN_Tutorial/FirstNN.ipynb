{
 "cells": [
  {
   "cell_type": "code",
   "execution_count": 45,
   "metadata": {},
   "outputs": [],
   "source": [
    "import tensorflow as tf\n",
    "import numpy as np\n"
   ]
  },
  {
   "cell_type": "code",
   "execution_count": 46,
   "metadata": {},
   "outputs": [],
   "source": [
    "celsius = np.array([-20, 10, -10, 0, 5, 15, 23, 45, 12, 32, 23, 13, 38], dtype=float)\n",
    "fahrenheit = np.array([-4, 50, 14, 32, 41, 59, 73.4, 113, 53.6, 89.6, 73.4, 55.4, 100.4], dtype=float)"
   ]
  },
  {
   "cell_type": "code",
   "execution_count": 47,
   "metadata": {},
   "outputs": [],
   "source": [
    "# Using Keras\n",
    "capa = tf.keras.layers.Dense(units =1, input_shape=[1]) # Crea una red neuronal de conexion todas con todas\n",
    "modelo = tf.keras.Sequential([capa])  # crea una red neuronal del tipo secuancial"
   ]
  },
  {
   "cell_type": "code",
   "execution_count": 48,
   "metadata": {},
   "outputs": [],
   "source": [
    "modelo.compile(\n",
    "    optimizer=tf.keras.optimizers.Adam(0.1),  # esta es la tasa de aprendizaje, que tan rapido y preciso se acercara a los valores deseados\n",
    "    loss='mean_squared_error'\n",
    ")"
   ]
  },
  {
   "cell_type": "code",
   "execution_count": 49,
   "metadata": {},
   "outputs": [
    {
     "name": "stdout",
     "output_type": "stream",
     "text": [
      "Comienza entrenamiento...\n",
      "Modelo entrenado!\n"
     ]
    }
   ],
   "source": [
    "print(\"Comienza entrenamiento...\")\n",
    "historial = modelo.fit(celsius, fahrenheit, epochs = 1000, verbose = False)\n",
    "print(\"Modelo entrenado!\")"
   ]
  },
  {
   "cell_type": "code",
   "execution_count": 50,
   "metadata": {},
   "outputs": [
    {
     "data": {
      "text/plain": [
       "[<matplotlib.lines.Line2D at 0x16333d20940>]"
      ]
     },
     "execution_count": 50,
     "metadata": {},
     "output_type": "execute_result"
    },
    {
     "data": {
      "image/png": "[encoded data removed]",
      "text/plain": [
       "<Figure size 432x288 with 1 Axes>"
      ]
     },
     "metadata": {
      "needs_background": "light"
     },
     "output_type": "display_data"
    }
   ],
   "source": [
    "import matplotlib.pyplot as plt\n",
    "plt.xlabel(\"# Epoca\")\n",
    "plt.ylabel(\"Magnitud de perdida\")\n",
    "plt.plot(historial.history[\"loss\"])"
   ]
  },
  {
   "cell_type": "code",
   "execution_count": 51,
   "metadata": {},
   "outputs": [
    {
     "name": "stdout",
     "output_type": "stream",
     "text": [
      "Hagamos una prediccion\n",
      "El resultado es [[135.15848]] fahrenheit!\n"
     ]
    }
   ],
   "source": [
    "print(\"Hagamos una prediccion\")\n",
    "resultado = modelo.predict([57])\n",
    "print(\"El resultado es \" + str(resultado) + \" fahrenheit!\")"
   ]
  },
  {
   "cell_type": "code",
   "execution_count": 52,
   "metadata": {},
   "outputs": [
    {
     "name": "stdout",
     "output_type": "stream",
     "text": [
      "Variables internas del modelo\n",
      "[array([[1.8257269]], dtype=float32), array([31.092049], dtype=float32)]\n"
     ]
    }
   ],
   "source": [
    "print(\"Variables internas del modelo\")\n",
    "print(capa.get_weights())"
   ]
  },
  {
   "cell_type": "code",
   "execution_count": 53,
   "metadata": {},
   "outputs": [],
   "source": [
    "# Creamos un modelo con dos capas ocultas\n",
    "oculta1 = tf.keras.layers.Dense(units=3, input_shape=[1])  # capa oculta 1 de 3 neuronas con 1 entrada\n",
    "oculta2 = tf.keras.layers.Dense(units=3) # capa intermedia 2 de 3 neuronas\n",
    "salida = tf.keras.layers.Dense(units=1)\n",
    "\n",
    "modelo2 = tf.keras.Sequential([oculta1, oculta2, salida])"
   ]
  },
  {
   "cell_type": "code",
   "execution_count": 54,
   "metadata": {},
   "outputs": [],
   "source": [
    "modelo2.compile(\n",
    "    optimizer=tf.keras.optimizers.Adam(0.1),  # esta es la tasa de aprendizaje, que tan rapido y preciso se acercara a los valores deseados\n",
    "    loss='mean_squared_error'\n",
    ")"
   ]
  },
  {
   "cell_type": "code",
   "execution_count": 55,
   "metadata": {},
   "outputs": [
    {
     "name": "stdout",
     "output_type": "stream",
     "text": [
      "Comienza entrenamiento...\n",
      "Modelo entrenado!\n"
     ]
    }
   ],
   "source": [
    "print(\"Comienza entrenamiento...\")\n",
    "historial2 = modelo2.fit(celsius, fahrenheit, epochs = 1000, verbose = False)\n",
    "print(\"Modelo entrenado!\")"
   ]
  },
  {
   "cell_type": "code",
   "execution_count": 56,
   "metadata": {},
   "outputs": [
    {
     "data": {
      "text/plain": [
       "[<matplotlib.lines.Line2D at 0x16332cd5690>]"
      ]
     },
     "execution_count": 56,
     "metadata": {},
     "output_type": "execute_result"
    },
    {
     "data": {
      "image/png": "[encoded data removed]",
      "text/plain": [
       "<Figure size 432x288 with 1 Axes>"
      ]
     },
     "metadata": {
      "needs_background": "light"
     },
     "output_type": "display_data"
    }
   ],
   "source": [
    "plt.xlabel(\"# Epoca\")\n",
    "plt.ylabel(\"Magnitud de perdida\")\n",
    "plt.plot(historial2.history[\"loss\"])"
   ]
  },
  {
   "cell_type": "code",
   "execution_count": 57,
   "metadata": {},
   "outputs": [
    {
     "name": "stdout",
     "output_type": "stream",
     "text": [
      "Hagamos una prediccion\n",
      "El resultado es [[134.59999]] fahrenheit!\n"
     ]
    }
   ],
   "source": [
    "print(\"Hagamos una prediccion\")\n",
    "resultado2 = modelo2.predict([57])\n",
    "print(\"El resultado es \" + str(resultado2) + \" fahrenheit!\")"
   ]
  },
  {
   "cell_type": "code",
   "execution_count": 58,
   "metadata": {},
   "outputs": [
    {
     "name": "stdout",
     "output_type": "stream",
     "text": [
      "Variables internas del modelo\n",
      "[array([[-0.20711884, -0.84679914, -0.2639469 ]], dtype=float32), array([-3.0016084, -5.2004914,  3.3359149], dtype=float32)]\n",
      "[array([[ 1.1115259 ,  0.32707012, -1.1762092 ],\n",
      "       [-0.2822885 ,  1.393131  ,  0.37369686],\n",
      "       [ 0.8160601 , -0.5806142 , -0.21717173]], dtype=float32), array([ 1.4539777, -4.313821 ,  3.209142 ], dtype=float32)]\n",
      "[array([[ 0.3518929 ],\n",
      "       [-1.7195104 ],\n",
      "       [ 0.56643856]], dtype=float32), array([3.9873834], dtype=float32)]\n"
     ]
    }
   ],
   "source": [
    "print(\"Variables internas del modelo\")\n",
    "print(oculta1.get_weights())\n",
    "print(oculta2.get_weights())\n",
    "print(salida.get_weights())"
   ]
  }
 ],
 "metadata": {
  "interpreter": {
   "hash": "2be5faf79681da6f2a61fdfdd5405d65d042280f7fba6178067603e3a2925119"
  },
  "kernelspec": {
   "display_name": "Python 3.10.0 64-bit",
   "language": "python",
   "name": "python3"
  },
  "language_info": {
   "codemirror_mode": {
    "name": "ipython",
    "version": 3
   },
   "file_extension": ".py",
   "mimetype": "text/x-python",
   "name": "python",
   "nbconvert_exporter": "python",
   "pygments_lexer": "ipython3",
   "version": "3.10.0"
  },
  "orig_nbformat": 4
 },
 "nbformat": 4,
 "nbformat_minor": 2
}
