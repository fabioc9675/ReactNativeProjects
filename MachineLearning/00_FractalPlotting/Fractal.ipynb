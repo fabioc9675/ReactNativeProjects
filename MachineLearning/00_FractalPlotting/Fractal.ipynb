{
 "cells": [
  {
   "cell_type": "code",
   "execution_count": 59,
   "metadata": {},
   "outputs": [
    {
     "data": {
      "text/plain": [
       "(1+2j)"
      ]
     },
     "execution_count": 59,
     "metadata": {},
     "output_type": "execute_result"
    }
   ],
   "source": [
    "complex(1,2)"
   ]
  },
  {
   "cell_type": "code",
   "execution_count": 60,
   "metadata": {},
   "outputs": [],
   "source": [
    "def f(c,z):\n",
    "    return z**2 + c"
   ]
  },
  {
   "cell_type": "code",
   "execution_count": 61,
   "metadata": {},
   "outputs": [
    {
     "data": {
      "text/plain": [
       "(1+2j)"
      ]
     },
     "execution_count": 61,
     "metadata": {},
     "output_type": "execute_result"
    }
   ],
   "source": [
    "c1 = complex(1,2)\n",
    "z0 = 0\n",
    "f(c1,z0)"
   ]
  },
  {
   "cell_type": "code",
   "execution_count": 62,
   "metadata": {},
   "outputs": [
    {
     "data": {
      "text/plain": [
       "(478+1366j)"
      ]
     },
     "execution_count": 62,
     "metadata": {},
     "output_type": "execute_result"
    }
   ],
   "source": [
    "z1 = f(c1, z0)\n",
    "z2 = f(c1, z1)\n",
    "z3 = f(c1, z2); z3\n",
    "\n",
    "f(c1, z3)"
   ]
  },
  {
   "cell_type": "code",
   "execution_count": 63,
   "metadata": {},
   "outputs": [
    {
     "data": {
      "text/plain": [
       "2.23606797749979"
      ]
     },
     "execution_count": 63,
     "metadata": {},
     "output_type": "execute_result"
    }
   ],
   "source": [
    "abs(c1)"
   ]
  },
  {
   "cell_type": "code",
   "execution_count": 64,
   "metadata": {},
   "outputs": [],
   "source": [
    "def diverge(c, z = 0, n_iter = 20, B = 20000):\n",
    "\n",
    "    c = complex(*c)\n",
    "    for i in range(n_iter):\n",
    "        z = f(c, z)\n",
    "\n",
    "        if abs(z) > B: return 1\n",
    "    return 0\n"
   ]
  },
  {
   "cell_type": "code",
   "execution_count": 65,
   "metadata": {},
   "outputs": [],
   "source": [
    "from matplotlib import pyplot as plt\n",
    "import numpy as np"
   ]
  },
  {
   "cell_type": "code",
   "execution_count": 66,
   "metadata": {},
   "outputs": [],
   "source": [
    "res = 200\n",
    "xmin, xmax = -1.2, 1.2\n",
    "ymin, ymax = -1.2, 1.2\n",
    "\n",
    "xx, yy = np.meshgrid(np.linspace(xmin, xmax, res), np.linspace(ymin, ymax, res))"
   ]
  },
  {
   "cell_type": "code",
   "execution_count": 67,
   "metadata": {},
   "outputs": [],
   "source": [
    "np.set_printoptions(2)"
   ]
  },
  {
   "cell_type": "code",
   "execution_count": 68,
   "metadata": {},
   "outputs": [
    {
     "data": {
      "text/plain": [
       "array([[-1.2 , -1.19, -1.18, ...,  1.18,  1.19,  1.2 ],\n",
       "       [-1.2 , -1.19, -1.18, ...,  1.18,  1.19,  1.2 ],\n",
       "       [-1.2 , -1.19, -1.18, ...,  1.18,  1.19,  1.2 ],\n",
       "       ...,\n",
       "       [-1.2 , -1.19, -1.18, ...,  1.18,  1.19,  1.2 ],\n",
       "       [-1.2 , -1.19, -1.18, ...,  1.18,  1.19,  1.2 ],\n",
       "       [-1.2 , -1.19, -1.18, ...,  1.18,  1.19,  1.2 ]])"
      ]
     },
     "execution_count": 68,
     "metadata": {},
     "output_type": "execute_result"
    }
   ],
   "source": [
    "xx"
   ]
  },
  {
   "cell_type": "code",
   "execution_count": 69,
   "metadata": {},
   "outputs": [
    {
     "data": {
      "text/plain": [
       "array([[-1.2 , -1.2 , -1.2 , ..., -1.2 , -1.2 , -1.2 ],\n",
       "       [-1.19, -1.19, -1.19, ..., -1.19, -1.19, -1.19],\n",
       "       [-1.18, -1.18, -1.18, ..., -1.18, -1.18, -1.18],\n",
       "       ...,\n",
       "       [ 1.18,  1.18,  1.18, ...,  1.18,  1.18,  1.18],\n",
       "       [ 1.19,  1.19,  1.19, ...,  1.19,  1.19,  1.19],\n",
       "       [ 1.2 ,  1.2 ,  1.2 , ...,  1.2 ,  1.2 ,  1.2 ]])"
      ]
     },
     "execution_count": 69,
     "metadata": {},
     "output_type": "execute_result"
    }
   ],
   "source": [
    "yy"
   ]
  },
  {
   "cell_type": "code",
   "execution_count": 70,
   "metadata": {},
   "outputs": [],
   "source": [
    "points = np.c_[xx.ravel(),yy.ravel()]"
   ]
  },
  {
   "cell_type": "code",
   "execution_count": 71,
   "metadata": {},
   "outputs": [
    {
     "data": {
      "text/plain": [
       "(40000, 2)"
      ]
     },
     "execution_count": 71,
     "metadata": {},
     "output_type": "execute_result"
    }
   ],
   "source": [
    "points.shape"
   ]
  },
  {
   "cell_type": "code",
   "execution_count": 72,
   "metadata": {},
   "outputs": [],
   "source": [
    "mandelbrot = [diverge(c) for c in points]"
   ]
  },
  {
   "cell_type": "code",
   "execution_count": 73,
   "metadata": {},
   "outputs": [],
   "source": [
    "mandelbrot = np.array(mandelbrot).reshape(res,res)"
   ]
  },
  {
   "cell_type": "code",
   "execution_count": 74,
   "metadata": {},
   "outputs": [
    {
     "data": {
      "text/plain": [
       "<matplotlib.image.AxesImage at 0x7fd1b3fb49d0>"
      ]
     },
     "execution_count": 74,
     "metadata": {},
     "output_type": "execute_result"
    },
    {
     "data": {
      "image/png": "[encoded data removed]",
      "text/plain": [
       "<Figure size 432x288 with 1 Axes>"
      ]
     },
     "metadata": {
      "needs_background": "light"
     },
     "output_type": "display_data"
    }
   ],
   "source": [
    "plt.imshow(mandelbrot)"
   ]
  },
  {
   "cell_type": "code",
   "execution_count": 75,
   "metadata": {},
   "outputs": [
    {
     "data": {
      "text/plain": [
       "<matplotlib.contour.QuadContourSet at 0x7fd1b4a62e20>"
      ]
     },
     "execution_count": 75,
     "metadata": {},
     "output_type": "execute_result"
    },
    {
     "data": {
      "image/png": "[encoded data removed]",
      "text/plain": [
       "<Figure size 432x288 with 1 Axes>"
      ]
     },
     "metadata": {
      "needs_background": "light"
     },
     "output_type": "display_data"
    }
   ],
   "source": [
    "plt.contourf(mandelbrot)"
   ]
  },
  {
   "cell_type": "code",
   "execution_count": 76,
   "metadata": {},
   "outputs": [],
   "source": [
    "def plot_mandelbrot(k):\n",
    "    def f(c, z, k):\n",
    "        return z**k +c\n",
    "\n",
    "    def diverge(c, z=0, n_iter=20, B=20000):\n",
    "        c = complex(*c)\n",
    "        for i in range(n_iter):\n",
    "            z = f(c, z, k)\n",
    "\n",
    "            if abs(z) > B: return 1\n",
    "        return 0\n",
    "    \n",
    "    mandelbrot = [diverge(c) for c in points]\n",
    "    mandelbrot = np.array(mandelbrot).reshape(res, res)\n",
    "    plt.contourf(mandelbrot)\n",
    "    "
   ]
  },
  {
   "cell_type": "code",
   "execution_count": 77,
   "metadata": {},
   "outputs": [
    {
     "data": {
      "image/png": "[encoded data removed]",
      "text/plain": [
       "<Figure size 432x288 with 1 Axes>"
      ]
     },
     "metadata": {
      "needs_background": "light"
     },
     "output_type": "display_data"
    }
   ],
   "source": [
    "plot_mandelbrot(3.5)"
   ]
  },
  {
   "cell_type": "code",
   "execution_count": 78,
   "metadata": {},
   "outputs": [],
   "source": [
    "ks = np.linspace(1, 8, 100)\n",
    "\n"
   ]
  }
 ],
 "metadata": {
  "interpreter": {
   "hash": "aee8b7b246df8f9039afb4144a1f6fd8d2ca17a180786b69acc140d282b71a49"
  },
  "kernelspec": {
   "display_name": "Python 3.8.5 64-bit",
   "language": "python",
   "name": "python3"
  },
  "language_info": {
   "codemirror_mode": {
    "name": "ipython",
    "version": 3
   },
   "file_extension": ".py",
   "mimetype": "text/x-python",
   "name": "python",
   "nbconvert_exporter": "python",
   "pygments_lexer": "ipython3",
   "version": "3.8.5"
  },
  "orig_nbformat": 4
 },
 "nbformat": 4,
 "nbformat_minor": 2
}
