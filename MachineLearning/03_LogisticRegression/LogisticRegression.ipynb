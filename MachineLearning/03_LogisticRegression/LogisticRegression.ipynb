{
 "cells": [
  {
   "cell_type": "markdown",
   "metadata": {},
   "source": [
    "# Logistic Regression\n",
    "\n",
    "https://www.youtube.com/watch?v=JDU3AzH3WKg&list=PLqnslRFeH2Upcrywf-u2etjdxxkL8nl7E&index=3"
   ]
  },
  {
   "cell_type": "code",
   "execution_count": 15,
   "metadata": {},
   "outputs": [],
   "source": [
    "import numpy as np\n",
    "\n",
    "\n",
    "class LogisticRegression:\n",
    "\n",
    "    def __init__(self, lr=0.001, n_iter=1000):\n",
    "        self.lr = lr\n",
    "        self.n_iter = n_iter\n",
    "        self.weights = None\n",
    "        self.bias = None\n",
    "\n",
    "    def fit(self, X, y):\n",
    "        # init parameters\n",
    "        n_samples, n_features = X.shape\n",
    "        self.weights = np.zeros(n_features)\n",
    "        self.bias = 0\n",
    "\n",
    "        # gradient descent\n",
    "        for _ in range(self.n_iter):\n",
    "            linear_model = np.dot(X, self.weights) + self.bias\n",
    "            y_predicted = self._sigmoid(linear_model)\n",
    "\n",
    "            dw = (1/n_samples) * np.dot(X.T, (y_predicted-y))\n",
    "            db = (1/n_samples) * np.sum(y_predicted-y)\n",
    "\n",
    "            self.weights -= self.lr*dw \n",
    "            self.bias -= self.lr*db\n",
    "\n",
    "    def predict(self, X):\n",
    "        linear_model = np.dot(X, self.weights) + self.bias\n",
    "        y_predicted = self._sigmoid(linear_model)\n",
    "        y_predicted_cls = [1 if i > 0.5 else 0 for i in y_predicted]\n",
    "        return y_predicted_cls\n",
    "\n",
    "    def _sigmoid(self, x):\n",
    "        return 1 / (1 + np.exp(-x))\n"
   ]
  },
  {
   "cell_type": "code",
   "execution_count": 16,
   "metadata": {},
   "outputs": [],
   "source": [
    "import numpy as np\n",
    "from sklearn.model_selection import train_test_split\n",
    "from sklearn import datasets\n",
    "import matplotlib.pyplot as plt\n",
    "\n",
    "# from logistic_regression import LogisticRegression\n",
    "\n",
    "bc = datasets.load_breast_cancer()\n",
    "X, y = bc.data, bc.target\n",
    "\n",
    "X_train, X_test, y_train, y_test = train_test_split(  X, y, test_size =0.2, random_state =1234)\n",
    "\n",
    "\n",
    "def accuracy(y_true, y_pred):\n",
    "    accuracy = np.sum(y_true == y_pred) / len(y_true)\n",
    "    return accuracy"
   ]
  },
  {
   "cell_type": "code",
   "execution_count": 18,
   "metadata": {},
   "outputs": [
    {
     "ename": "ValueError",
     "evalue": "operands could not be broadcast together with shapes (455,) (114,30) ",
     "output_type": "error",
     "traceback": [
      "\u001b[1;31m---------------------------------------------------------------------------\u001b[0m",
      "\u001b[1;31mValueError\u001b[0m                                Traceback (most recent call last)",
      "\u001b[1;32md:\\GitHub\\ReactNativeProjects\\MachineLearning\\03_LogisticRegression\\LogisticRegression.ipynb Cell 4'\u001b[0m in \u001b[0;36m<cell line: 2>\u001b[1;34m()\u001b[0m\n\u001b[0;32m      <a href='vscode-notebook-cell:/d%3A/GitHub/ReactNativeProjects/MachineLearning/03_LogisticRegression/LogisticRegression.ipynb#ch0000005?line=0'>1</a>\u001b[0m regressor \u001b[39m=\u001b[39m LogisticRegression(lr\u001b[39m=\u001b[39m\u001b[39m0.0001\u001b[39m, n_iter\u001b[39m=\u001b[39m\u001b[39m1000\u001b[39m)\n\u001b[1;32m----> <a href='vscode-notebook-cell:/d%3A/GitHub/ReactNativeProjects/MachineLearning/03_LogisticRegression/LogisticRegression.ipynb#ch0000005?line=1'>2</a>\u001b[0m regressor\u001b[39m.\u001b[39;49mfit(X_train, y_train)\n\u001b[0;32m      <a href='vscode-notebook-cell:/d%3A/GitHub/ReactNativeProjects/MachineLearning/03_LogisticRegression/LogisticRegression.ipynb#ch0000005?line=2'>3</a>\u001b[0m predictions \u001b[39m=\u001b[39m regressor\u001b[39m.\u001b[39mpredict(X_test)\n\u001b[0;32m      <a href='vscode-notebook-cell:/d%3A/GitHub/ReactNativeProjects/MachineLearning/03_LogisticRegression/LogisticRegression.ipynb#ch0000005?line=4'>5</a>\u001b[0m \u001b[39mprint\u001b[39m(\u001b[39m\"\u001b[39m\u001b[39mLR classification accuracy\u001b[39m\u001b[39m\"\u001b[39m, accuracy(y_test, predictions))\n",
      "\u001b[1;32md:\\GitHub\\ReactNativeProjects\\MachineLearning\\03_LogisticRegression\\LogisticRegression.ipynb Cell 2'\u001b[0m in \u001b[0;36mLogisticRegression.fit\u001b[1;34m(self, X, y)\u001b[0m\n\u001b[0;32m     <a href='vscode-notebook-cell:/d%3A/GitHub/ReactNativeProjects/MachineLearning/03_LogisticRegression/LogisticRegression.ipynb#ch0000002?line=19'>20</a>\u001b[0m linear_model \u001b[39m=\u001b[39m np\u001b[39m.\u001b[39mdot(X, \u001b[39mself\u001b[39m\u001b[39m.\u001b[39mweights) \u001b[39m+\u001b[39m \u001b[39mself\u001b[39m\u001b[39m.\u001b[39mbias\n\u001b[0;32m     <a href='vscode-notebook-cell:/d%3A/GitHub/ReactNativeProjects/MachineLearning/03_LogisticRegression/LogisticRegression.ipynb#ch0000002?line=20'>21</a>\u001b[0m y_predicted \u001b[39m=\u001b[39m \u001b[39mself\u001b[39m\u001b[39m.\u001b[39m_sigmoid(linear_model)\n\u001b[1;32m---> <a href='vscode-notebook-cell:/d%3A/GitHub/ReactNativeProjects/MachineLearning/03_LogisticRegression/LogisticRegression.ipynb#ch0000002?line=22'>23</a>\u001b[0m dw \u001b[39m=\u001b[39m (\u001b[39m1\u001b[39m\u001b[39m/\u001b[39mn_samples) \u001b[39m*\u001b[39m np\u001b[39m.\u001b[39mdot(X\u001b[39m.\u001b[39mT, (y_predicted\u001b[39m-\u001b[39;49my))\n\u001b[0;32m     <a href='vscode-notebook-cell:/d%3A/GitHub/ReactNativeProjects/MachineLearning/03_LogisticRegression/LogisticRegression.ipynb#ch0000002?line=23'>24</a>\u001b[0m db \u001b[39m=\u001b[39m (\u001b[39m1\u001b[39m\u001b[39m/\u001b[39mn_samples) \u001b[39m*\u001b[39m np\u001b[39m.\u001b[39msum(y_predicted\u001b[39m-\u001b[39my)\n\u001b[0;32m     <a href='vscode-notebook-cell:/d%3A/GitHub/ReactNativeProjects/MachineLearning/03_LogisticRegression/LogisticRegression.ipynb#ch0000002?line=25'>26</a>\u001b[0m \u001b[39mself\u001b[39m\u001b[39m.\u001b[39mweights \u001b[39m-\u001b[39m\u001b[39m=\u001b[39m \u001b[39mself\u001b[39m\u001b[39m.\u001b[39mlr\u001b[39m*\u001b[39mdw \n",
      "\u001b[1;31mValueError\u001b[0m: operands could not be broadcast together with shapes (455,) (114,30) "
     ]
    }
   ],
   "source": [
    "regressor = LogisticRegression(lr=0.0001, n_iter=1000)\n",
    "regressor.fit(X_train, y_train)\n",
    "predictions = regressor.predict(X_test)\n",
    "\n",
    "print(\"LR classification accuracy\", accuracy(y_test, predictions))"
   ]
  },
  {
   "cell_type": "code",
   "execution_count": null,
   "metadata": {},
   "outputs": [],
   "source": []
  }
 ],
 "metadata": {
  "interpreter": {
   "hash": "369f2c481f4da34e4445cda3fffd2e751bd1c4d706f27375911949ba6bb62e1c"
  },
  "kernelspec": {
   "display_name": "Python 3.10.0 64-bit",
   "language": "python",
   "name": "python3"
  },
  "language_info": {
   "codemirror_mode": {
    "name": "ipython",
    "version": 3
   },
   "file_extension": ".py",
   "mimetype": "text/x-python",
   "name": "python",
   "nbconvert_exporter": "python",
   "pygments_lexer": "ipython3",
   "version": "3.10.0"
  },
  "orig_nbformat": 4
 },
 "nbformat": 4,
 "nbformat_minor": 2
}
